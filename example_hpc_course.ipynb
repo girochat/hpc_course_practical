{
 "cells": [
  {
   "cell_type": "markdown",
   "id": "c186ad5e-388d-424a-91db-10a019363452",
   "metadata": {},
   "source": [
    "This is a Title\n",
    "================\n",
    "\n",
    "This is a subtitle\n",
    "------------------\n",
    "\n",
    "This is an **example** of a jupyter notebook\n",
    "\n"
   ]
  },
  {
   "cell_type": "code",
   "execution_count": null,
   "id": "50b901d4-7bda-447c-81f8-84f14c68df82",
   "metadata": {},
   "outputs": [],
   "source": [
    "print(\"Hello World again!\")"
   ]
  }
 ],
 "metadata": {
  "kernelspec": {
   "display_name": "Python 3 (ipykernel)",
   "language": "python",
   "name": "python3"
  },
  "language_info": {
   "codemirror_mode": {
    "name": "ipython",
    "version": 3
   },
   "file_extension": ".py",
   "mimetype": "text/x-python",
   "name": "python",
   "nbconvert_exporter": "python",
   "pygments_lexer": "ipython3",
   "version": "3.9.12"
  }
 },
 "nbformat": 4,
 "nbformat_minor": 5
}
